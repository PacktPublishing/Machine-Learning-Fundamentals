{
 "cells": [
  {
   "cell_type": "code",
   "execution_count": 1,
   "metadata": {},
   "outputs": [],
   "source": [
    "from exerciseClass import NN_Model"
   ]
  },
  {
   "cell_type": "code",
   "execution_count": 2,
   "metadata": {},
   "outputs": [],
   "source": [
    "model = NN_Model()"
   ]
  },
  {
   "cell_type": "code",
   "execution_count": 3,
   "metadata": {},
   "outputs": [],
   "source": [
    "a = 1        # season in which the analysis was performed\n",
    "b = 0.56     # age at the time of the analysis\n",
    "c = 1        # childish disease\n",
    "d = 1        # accident or serious trauma\n",
    "e = 1        # surgical intervention\n",
    "f = 0        # high fevers in the last year\n",
    "g  = 1       # frequency of alcohol consumption\n",
    "h = -1       # smoking habit\n",
    "i = 0.63     # number of hours spent sitting per day"
   ]
  },
  {
   "cell_type": "code",
   "execution_count": 4,
   "metadata": {},
   "outputs": [],
   "source": [
    "pred = model.predict(season = a, age = b, childish = c, trauma = d, surgical = e, fevers = f, alcohol = g, smoking = h, sitting = i)"
   ]
  }
 ],
 "metadata": {
  "kernelspec": {
   "display_name": "Python 3",
   "language": "python",
   "name": "python3"
  },
  "language_info": {
   "codemirror_mode": {
    "name": "ipython",
    "version": 3
   },
   "file_extension": ".py",
   "mimetype": "text/x-python",
   "name": "python",
   "nbconvert_exporter": "python",
   "pygments_lexer": "ipython3",
   "version": "3.7.0"
  }
 },
 "nbformat": 4,
 "nbformat_minor": 2
}
