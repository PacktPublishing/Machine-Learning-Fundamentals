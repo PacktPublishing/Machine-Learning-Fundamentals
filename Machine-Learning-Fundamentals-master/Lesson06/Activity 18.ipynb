{
 "cells": [
  {
   "cell_type": "code",
   "execution_count": 1,
   "metadata": {},
   "outputs": [],
   "source": [
    "from trainedModel import NN_Model"
   ]
  },
  {
   "cell_type": "code",
   "execution_count": 2,
   "metadata": {},
   "outputs": [],
   "source": [
    "model = NN_Model()"
   ]
  },
  {
   "cell_type": "code",
   "execution_count": 3,
   "metadata": {},
   "outputs": [],
   "source": [
    "age = 42\n",
    "job = 2\n",
    "marital = 0\n",
    "education = 0\n",
    "default = 1\n",
    "balance = 2\n",
    "housing = 1\n",
    "loan = 0\n",
    "day = 5\n",
    "month = 8\n",
    "duration = 380\n",
    "campaign = 1\n",
    "pdays = -1\n",
    "previous = 0"
   ]
  },
  {
   "cell_type": "code",
   "execution_count": 4,
   "metadata": {},
   "outputs": [
    {
     "name": "stdout",
     "output_type": "stream",
     "text": [
      "[0]\n"
     ]
    }
   ],
   "source": [
    "pred = model.predict(age=age, job=job, marital=marital, education=education, default=default, balance=balance, housing=housing, loan=loan, day=day, month=month, duration=duration, campaign=campaign, pdays=pdays, previous=previous)\n",
    "print(pred)"
   ]
  }
 ],
 "metadata": {
  "kernelspec": {
   "display_name": "Python 3",
   "language": "python",
   "name": "python3"
  },
  "language_info": {
   "codemirror_mode": {
    "name": "ipython",
    "version": 3
   },
   "file_extension": ".py",
   "mimetype": "text/x-python",
   "name": "python",
   "nbconvert_exporter": "python",
   "pygments_lexer": "ipython3",
   "version": "3.6.6"
  }
 },
 "nbformat": 4,
 "nbformat_minor": 2
}
