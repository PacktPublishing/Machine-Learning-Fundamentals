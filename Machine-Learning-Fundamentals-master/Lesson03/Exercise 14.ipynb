{
 "cells": [
  {
   "cell_type": "code",
   "execution_count": 1,
   "metadata": {},
   "outputs": [],
   "source": [
    "from sklearn.datasets import load_breast_cancer\n",
    "digits = load_breast_cancer()\n",
    "\n",
    "import pandas as pd\n",
    "X = pd.DataFrame(digits.data)\n",
    "Y = pd.DataFrame(digits.target)"
   ]
  },
  {
   "cell_type": "code",
   "execution_count": 2,
   "metadata": {},
   "outputs": [
    {
     "name": "stdout",
     "output_type": "stream",
     "text": [
      "(455, 30) (57, 30) (57, 30) (455, 1) (57, 1) (57, 1)\n"
     ]
    }
   ],
   "source": [
    "from sklearn.model_selection import train_test_split\n",
    "\n",
    "X_new, X_test, Y_new, Y_test = train_test_split(X, Y, test_size=0.1, random_state=101)\n",
    "X_train, X_dev, Y_train, Y_dev = train_test_split(X_new, Y_new, test_size=0.11, random_state=101)\n",
    "\n",
    "print(X_train.shape, X_dev.shape, X_test.shape, Y_train.shape, Y_dev.shape, Y_test.shape)"
   ]
  },
  {
   "cell_type": "code",
   "execution_count": 3,
   "metadata": {},
   "outputs": [
    {
     "name": "stdout",
     "output_type": "stream",
     "text": [
      "(50, 30) (50, 1)\n"
     ]
    }
   ],
   "source": [
    "import numpy as np\n",
    "np.random.seed(101)\n",
    "\n",
    "indices_train = np.random.randint(0,len(X_train),25)\n",
    "indices_dev = np.random.randint(0,len(X_dev),25)\n",
    "\n",
    "X_train_dev = pd.concat([X_train.iloc[indices_train,:],X_dev.iloc[indices_dev,:]])\n",
    "Y_train_dev = pd.concat([Y_train.iloc[indices_train,:],Y_dev.iloc[indices_dev,:]])\n",
    "\n",
    "print(X_train_dev.shape, Y_train_dev.shape)"
   ]
  },
  {
   "cell_type": "code",
   "execution_count": 4,
   "metadata": {},
   "outputs": [],
   "source": [
    "from sklearn import tree\n",
    "model = tree.DecisionTreeClassifier(random_state=101)\n",
    "model = model.fit(X_train, Y_train)"
   ]
  },
  {
   "cell_type": "code",
   "execution_count": 5,
   "metadata": {},
   "outputs": [
    {
     "name": "stdout",
     "output_type": "stream",
     "text": [
      "[1.0, 0.9705882352941176, 0.9333333333333333, 0.9714285714285714]\n"
     ]
    }
   ],
   "source": [
    "from sklearn.metrics import recall_score\n",
    "X_sets = [X_train, X_train_dev, X_dev, X_test]\n",
    "Y_sets = [Y_train, Y_train_dev, Y_dev, Y_test]\n",
    "\n",
    "scores = []\n",
    "for i in range(0,len(X_sets)):\n",
    "    pred = model.predict(X_sets[i])\n",
    "    score = recall_score(Y_sets[i],pred)\n",
    "    scores.append(score)\n",
    "\n",
    "print(scores)"
   ]
  }
 ],
 "metadata": {
  "kernelspec": {
   "display_name": "Python 3",
   "language": "python",
   "name": "python3"
  },
  "language_info": {
   "codemirror_mode": {
    "name": "ipython",
    "version": 3
   },
   "file_extension": ".py",
   "mimetype": "text/x-python",
   "name": "python",
   "nbconvert_exporter": "python",
   "pygments_lexer": "ipython3",
   "version": "3.5.2"
  }
 },
 "nbformat": 4,
 "nbformat_minor": 2
}
